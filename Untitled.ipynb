{
 "cells": [
  {
   "cell_type": "code",
   "execution_count": null,
   "id": "6b32a1de-b428-4be9-98f2-af31ba30c306",
   "metadata": {},
   "outputs": [],
   "source": [
    "# Creating a model with TemsprFlow's Sequential API for offensive text sentiment analysis\n",
    "\n",
    "def create_and_compile_model(hp):\n",
    "\n",
    "    embedding_dim = hp.Int(\"Embedding dim\", min_value=64, max_value=512, step=64)\n",
    "    dense_1_nodes = hp.Int(\"dense_1_nodes\", min_value=8, max_value=128, step=8)\n",
    "    \n",
    "    inputs = tf.keras.layers.Input(shape=(max_length))\n",
    "    x = tf.keras.layers.Embedding(vocab_size, embedding_dim, input_length=max_length)(inputs)\n",
    "    x = tf.keras.layers.GlobalAveragePooling1D()(x)\n",
    "    x = tf.keras.layers.Dense(dense_1_nodes, activation='relu')(x)\n",
    "    outputs = tf.keras.layers.Dense(1, activation='sigmoid')(x)\n",
    "    \n",
    "    model = tf.keras.models.Model(inputs=inputs, outputs=outputs)\n",
    "    \n",
    "    learning_rate = hp.Choice(\"learning_rate\", [0.001, 0.0001])\n",
    "    \n",
    "    model.compile(\n",
    "    loss = tf.keras.losses.BinaryCrossentropy(),\n",
    "    optimizer = tf.keras.optimizers.Adam(learning_rate),\n",
    "    metrics = [tf.keras.metrics.BinaryAccuracy(), tfa.metrics.F1Score(num_classes=1, threshold=0.5)]\n",
    "    \n",
    "    )\n",
    "    \n",
    "    return model"
   ]
  }
 ],
 "metadata": {
  "kernelspec": {
   "display_name": "Python 3 (ipykernel)",
   "language": "python",
   "name": "python3"
  },
  "language_info": {
   "codemirror_mode": {
    "name": "ipython",
    "version": 3
   },
   "file_extension": ".py",
   "mimetype": "text/x-python",
   "name": "python",
   "nbconvert_exporter": "python",
   "pygments_lexer": "ipython3",
   "version": "3.9.7"
  }
 },
 "nbformat": 4,
 "nbformat_minor": 5
}
