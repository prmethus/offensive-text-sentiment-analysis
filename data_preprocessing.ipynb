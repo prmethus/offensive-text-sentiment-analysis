{
 "cells": [
  {
   "cell_type": "code",
   "execution_count": 1,
   "id": "739c5207-6368-461d-bd53-f0fdd6d04164",
   "metadata": {},
   "outputs": [],
   "source": [
    "import pandas as pd\n",
    "import matplotlib.pyplot as plt\n",
    "%matplotlib inline\n",
    "import seaborn as sns\n",
    "sns.set_style(\"darkgrid\")\n",
    "sns.set_palette(\"mako\")"
   ]
  },
  {
   "cell_type": "code",
   "execution_count": 2,
   "id": "857de45a-bdeb-4211-886b-15beffe7d436",
   "metadata": {},
   "outputs": [
    {
     "name": "stderr",
     "output_type": "stream",
     "text": [
      "2022-04-20 00:31:16.809924: W tensorflow/stream_executor/platform/default/dso_loader.cc:64] Could not load dynamic library 'libcudart.so.11.0'; dlerror: libcudart.so.11.0: cannot open shared object file: No such file or directory\n",
      "2022-04-20 00:31:16.809953: I tensorflow/stream_executor/cuda/cudart_stub.cc:29] Ignore above cudart dlerror if you do not have a GPU set up on your machine.\n"
     ]
    }
   ],
   "source": [
    "from utils import *\n",
    "from train import *"
   ]
  },
  {
   "cell_type": "code",
   "execution_count": 3,
   "id": "88795a20-269c-49a2-b7e0-10f04e0edf62",
   "metadata": {},
   "outputs": [
    {
     "name": "stdout",
     "output_type": "stream",
     "text": [
      "The dataset doesn't exist. Downloading it...\n",
      "Dataset successfully downloaded\n",
      "Extracting the zip file...\n",
      "The Dataset has been extracted!\n",
      "Joining the datasets together...\n",
      "Dataset Joined Successfully. Saving it...\n",
      "Saved 'Cyberbully_dataset_combined.csv'. The dataset is also availabe on Kaggle: https://www.kaggle.com/datasets/prmethus/mendeleys-cyberbully-datasets-combined?select=Cyberbully_dataset_combined.csv\n",
      "\n",
      "Dataset path: cyberbully_datasets/Cyberbully_dataset_combined.csv\n"
     ]
    }
   ],
   "source": [
    "download_and_join_datasets()"
   ]
  },
  {
   "cell_type": "code",
   "execution_count": 12,
   "id": "2e436d19-2164-4c30-9fbc-e786269d3445",
   "metadata": {},
   "outputs": [
    {
     "data": {
      "text/html": [
       "<div>\n",
       "<style scoped>\n",
       "    .dataframe tbody tr th:only-of-type {\n",
       "        vertical-align: middle;\n",
       "    }\n",
       "\n",
       "    .dataframe tbody tr th {\n",
       "        vertical-align: top;\n",
       "    }\n",
       "\n",
       "    .dataframe thead th {\n",
       "        text-align: right;\n",
       "    }\n",
       "</style>\n",
       "<table border=\"1\" class=\"dataframe\">\n",
       "  <thead>\n",
       "    <tr style=\"text-align: right;\">\n",
       "      <th></th>\n",
       "      <th>Text</th>\n",
       "      <th>Offensive</th>\n",
       "    </tr>\n",
       "  </thead>\n",
       "  <tbody>\n",
       "    <tr>\n",
       "      <th>0</th>\n",
       "      <td>RT @BeepsS: @senna1 @BeepsS: I'm not sexist bu...</td>\n",
       "      <td>1.0</td>\n",
       "    </tr>\n",
       "    <tr>\n",
       "      <th>1</th>\n",
       "      <td>There's some very hate able teams this year #MKR</td>\n",
       "      <td>0.0</td>\n",
       "    </tr>\n",
       "    <tr>\n",
       "      <th>2</th>\n",
       "      <td>RT @The_Eccles: \"Everyone underestimated us\" \\...</td>\n",
       "      <td>0.0</td>\n",
       "    </tr>\n",
       "    <tr>\n",
       "      <th>3</th>\n",
       "      <td>RT @NOTLukeDarcy: did @Channel7 or #MKR actual...</td>\n",
       "      <td>0.0</td>\n",
       "    </tr>\n",
       "    <tr>\n",
       "      <th>4</th>\n",
       "      <td>No, you don't. @Shut_Up_Jeff: I thought of a r...</td>\n",
       "      <td>1.0</td>\n",
       "    </tr>\n",
       "  </tbody>\n",
       "</table>\n",
       "</div>"
      ],
      "text/plain": [
       "                                                Text  Offensive\n",
       "0  RT @BeepsS: @senna1 @BeepsS: I'm not sexist bu...        1.0\n",
       "1   There's some very hate able teams this year #MKR        0.0\n",
       "2  RT @The_Eccles: \"Everyone underestimated us\" \\...        0.0\n",
       "3  RT @NOTLukeDarcy: did @Channel7 or #MKR actual...        0.0\n",
       "4  No, you don't. @Shut_Up_Jeff: I thought of a r...        1.0"
      ]
     },
     "execution_count": 12,
     "metadata": {},
     "output_type": "execute_result"
    }
   ],
   "source": [
    "df = pd.read_csv(\"cyberbully_datasets/Cyberbully_dataset_combined.csv\")\n",
    "df.head()"
   ]
  },
  {
   "cell_type": "code",
   "execution_count": 13,
   "id": "a18cbfe3-8cf7-4879-b3fa-ab6e954f92b4",
   "metadata": {},
   "outputs": [
    {
     "name": "stdout",
     "output_type": "stream",
     "text": [
      "<class 'pandas.core.frame.DataFrame'>\n",
      "RangeIndex: 448880 entries, 0 to 448879\n",
      "Data columns (total 2 columns):\n",
      " #   Column     Non-Null Count   Dtype  \n",
      "---  ------     --------------   -----  \n",
      " 0   Text       448878 non-null  object \n",
      " 1   Offensive  448874 non-null  float64\n",
      "dtypes: float64(1), object(1)\n",
      "memory usage: 6.8+ MB\n"
     ]
    }
   ],
   "source": [
    "df.info()"
   ]
  },
  {
   "cell_type": "code",
   "execution_count": 14,
   "id": "58dee279-2dcd-4ac1-bb84-5f690cedae4f",
   "metadata": {},
   "outputs": [
    {
     "data": {
      "text/html": [
       "<div>\n",
       "<style scoped>\n",
       "    .dataframe tbody tr th:only-of-type {\n",
       "        vertical-align: middle;\n",
       "    }\n",
       "\n",
       "    .dataframe tbody tr th {\n",
       "        vertical-align: top;\n",
       "    }\n",
       "\n",
       "    .dataframe thead th {\n",
       "        text-align: right;\n",
       "    }\n",
       "</style>\n",
       "<table border=\"1\" class=\"dataframe\">\n",
       "  <thead>\n",
       "    <tr style=\"text-align: right;\">\n",
       "      <th></th>\n",
       "      <th>Offensive</th>\n",
       "    </tr>\n",
       "  </thead>\n",
       "  <tbody>\n",
       "    <tr>\n",
       "      <th>count</th>\n",
       "      <td>448874.000000</td>\n",
       "    </tr>\n",
       "    <tr>\n",
       "      <th>mean</th>\n",
       "      <td>0.128435</td>\n",
       "    </tr>\n",
       "    <tr>\n",
       "      <th>std</th>\n",
       "      <td>0.334574</td>\n",
       "    </tr>\n",
       "    <tr>\n",
       "      <th>min</th>\n",
       "      <td>0.000000</td>\n",
       "    </tr>\n",
       "    <tr>\n",
       "      <th>25%</th>\n",
       "      <td>0.000000</td>\n",
       "    </tr>\n",
       "    <tr>\n",
       "      <th>50%</th>\n",
       "      <td>0.000000</td>\n",
       "    </tr>\n",
       "    <tr>\n",
       "      <th>75%</th>\n",
       "      <td>0.000000</td>\n",
       "    </tr>\n",
       "    <tr>\n",
       "      <th>max</th>\n",
       "      <td>1.000000</td>\n",
       "    </tr>\n",
       "  </tbody>\n",
       "</table>\n",
       "</div>"
      ],
      "text/plain": [
       "           Offensive\n",
       "count  448874.000000\n",
       "mean        0.128435\n",
       "std         0.334574\n",
       "min         0.000000\n",
       "25%         0.000000\n",
       "50%         0.000000\n",
       "75%         0.000000\n",
       "max         1.000000"
      ]
     },
     "execution_count": 14,
     "metadata": {},
     "output_type": "execute_result"
    }
   ],
   "source": [
    "df.describe()"
   ]
  },
  {
   "cell_type": "code",
   "execution_count": 15,
   "id": "b52c8c7d-a353-4e59-adf6-fd1764a0ee70",
   "metadata": {},
   "outputs": [
    {
     "data": {
      "text/plain": [
       "448880"
      ]
     },
     "execution_count": 15,
     "metadata": {},
     "output_type": "execute_result"
    }
   ],
   "source": [
    "len(df)"
   ]
  },
  {
   "cell_type": "code",
   "execution_count": 16,
   "id": "97931597-ee7a-41d2-8742-c9ee24ecc85c",
   "metadata": {},
   "outputs": [
    {
     "data": {
      "text/plain": [
       "Text         2\n",
       "Offensive    6\n",
       "dtype: int64"
      ]
     },
     "execution_count": 16,
     "metadata": {},
     "output_type": "execute_result"
    }
   ],
   "source": [
    "# Removing NaN values.\n",
    "df.isna().sum()"
   ]
  },
  {
   "cell_type": "code",
   "execution_count": 17,
   "id": "bd52eec9-59b2-4de2-830b-82a3f40e9576",
   "metadata": {},
   "outputs": [],
   "source": [
    "# The dataframe has very few missing values. So we can just drop them.\n",
    "df = df.dropna()"
   ]
  },
  {
   "cell_type": "code",
   "execution_count": 18,
   "id": "e0f83e24-b0ac-4109-afcf-1bc284c77ad8",
   "metadata": {},
   "outputs": [],
   "source": [
    "train_set, validation_set, test_set = stratified_split(df)"
   ]
  },
  {
   "cell_type": "code",
   "execution_count": 21,
   "id": "4c8f6325-1363-4b67-8217-ca9eb37b3d0b",
   "metadata": {},
   "outputs": [],
   "source": [
    "# Creating a word tokenizer\n",
    "\n",
    "from tensorflow.keras.preprocessing.text import Tokenizer\n",
    "\n",
    "vocab_size = 10000\n",
    "\n",
    "tokenizer = Tokenizer(num_words = vocab_size, oov_token=\"<UNK>\")\n",
    "tokenizer.fit_on_texts(train_set[\"Text\"])"
   ]
  },
  {
   "cell_type": "code",
   "execution_count": 29,
   "id": "be736bcf-d03c-415f-83e6-07b4fc0c7b24",
   "metadata": {},
   "outputs": [],
   "source": [
    "train_sequences = tokenize_and_pad(train_set[\"Text\"], tk, maxlen=100, padding='post', truncating='post')\n",
    "validation_sequences = tokenize_and_pad(validation_set[\"Text\"], tk, maxlen=100, padding='post', truncating='post')\n",
    "test_sequences = tokenize_and_pad(test_set[\"Text\"], tk, maxlen=100, padding='post', truncating='post')"
   ]
  },
  {
   "cell_type": "code",
   "execution_count": 27,
   "id": "d582a5f1-efef-4580-92bd-51c98e239d91",
   "metadata": {},
   "outputs": [
    {
     "data": {
      "text/plain": [
       "['Tokenizer/Tokenizer.pkl']"
      ]
     },
     "execution_count": 27,
     "metadata": {},
     "output_type": "execute_result"
    }
   ],
   "source": [
    "# Saving the Tokenizer\n",
    "\n",
    "import joblib\n",
    "if not os.path.exists(\"Tokenizer\"):\n",
    "    os.mkdir(\"Tokenizer\")\n",
    "joblib.dump(tokenizer, os.path.join(\"Tokenizer\", \"Tokenizer.pkl\"))"
   ]
  },
  {
   "cell_type": "code",
   "execution_count": null,
   "id": "5ce9bf9d-8f6e-48ed-9c13-6266769fb72f",
   "metadata": {},
   "outputs": [],
   "source": [
    "model, tuner = hyperparameter_tuning()"
   ]
  },
  {
   "cell_type": "code",
   "execution_count": null,
   "id": "fa559ce7-911f-4360-ab1a-9ca8471d79a1",
   "metadata": {},
   "outputs": [],
   "source": []
  }
 ],
 "metadata": {
  "kernelspec": {
   "display_name": "MLpy",
   "language": "python",
   "name": "mlpy"
  },
  "language_info": {
   "codemirror_mode": {
    "name": "ipython",
    "version": 3
   },
   "file_extension": ".py",
   "mimetype": "text/x-python",
   "name": "python",
   "nbconvert_exporter": "python",
   "pygments_lexer": "ipython3",
   "version": "3.9.7"
  }
 },
 "nbformat": 4,
 "nbformat_minor": 5
}
